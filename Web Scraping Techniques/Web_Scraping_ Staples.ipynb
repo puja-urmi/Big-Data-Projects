{
 "cells": [
  {
   "cell_type": "markdown",
   "id": "a46024f1-f97a-4310-8777-f6b55c3fa96c",
   "metadata": {},
   "source": [
    "## Install Necessary Libraries"
   ]
  },
  {
   "cell_type": "code",
   "execution_count": 1,
   "id": "a210921f",
   "metadata": {},
   "outputs": [
    {
     "name": "stdout",
     "output_type": "stream",
     "text": [
      "Requirement already satisfied: beautifulsoup4 in /Users/pujasaha/anaconda3/envs/torch/lib/python3.11/site-packages (4.12.2)\n",
      "Requirement already satisfied: soupsieve>1.2 in /Users/pujasaha/anaconda3/envs/torch/lib/python3.11/site-packages (from beautifulsoup4) (2.5)\n",
      "Note: you may need to restart the kernel to use updated packages.\n"
     ]
    }
   ],
   "source": [
    "pip install beautifulsoup4"
   ]
  },
  {
   "cell_type": "code",
   "execution_count": 2,
   "id": "4b11b7db",
   "metadata": {},
   "outputs": [
    {
     "name": "stdout",
     "output_type": "stream",
     "text": [
      "Requirement already satisfied: selenium in /Users/pujasaha/anaconda3/envs/torch/lib/python3.11/site-packages (4.16.0)\n",
      "Requirement already satisfied: urllib3<3,>=1.26 in /Users/pujasaha/anaconda3/envs/torch/lib/python3.11/site-packages (from urllib3[socks]<3,>=1.26->selenium) (1.26.18)\n",
      "Requirement already satisfied: trio~=0.17 in /Users/pujasaha/anaconda3/envs/torch/lib/python3.11/site-packages (from selenium) (0.24.0)\n",
      "Requirement already satisfied: trio-websocket~=0.9 in /Users/pujasaha/anaconda3/envs/torch/lib/python3.11/site-packages (from selenium) (0.11.1)\n",
      "Requirement already satisfied: certifi>=2021.10.8 in /Users/pujasaha/anaconda3/envs/torch/lib/python3.11/site-packages (from selenium) (2024.2.2)\n",
      "Requirement already satisfied: attrs>=20.1.0 in /Users/pujasaha/anaconda3/envs/torch/lib/python3.11/site-packages (from trio~=0.17->selenium) (23.1.0)\n",
      "Requirement already satisfied: sortedcontainers in /Users/pujasaha/anaconda3/envs/torch/lib/python3.11/site-packages (from trio~=0.17->selenium) (2.4.0)\n",
      "Requirement already satisfied: idna in /Users/pujasaha/anaconda3/envs/torch/lib/python3.11/site-packages (from trio~=0.17->selenium) (3.4)\n",
      "Requirement already satisfied: outcome in /Users/pujasaha/anaconda3/envs/torch/lib/python3.11/site-packages (from trio~=0.17->selenium) (1.3.0.post0)\n",
      "Requirement already satisfied: sniffio>=1.3.0 in /Users/pujasaha/anaconda3/envs/torch/lib/python3.11/site-packages (from trio~=0.17->selenium) (1.3.0)\n",
      "Requirement already satisfied: wsproto>=0.14 in /Users/pujasaha/anaconda3/envs/torch/lib/python3.11/site-packages (from trio-websocket~=0.9->selenium) (1.2.0)\n",
      "Requirement already satisfied: PySocks!=1.5.7,<2.0,>=1.5.6 in /Users/pujasaha/anaconda3/envs/torch/lib/python3.11/site-packages (from urllib3[socks]<3,>=1.26->selenium) (1.7.1)\n",
      "Requirement already satisfied: h11<1,>=0.9.0 in /Users/pujasaha/anaconda3/envs/torch/lib/python3.11/site-packages (from wsproto>=0.14->trio-websocket~=0.9->selenium) (0.14.0)\n",
      "Note: you may need to restart the kernel to use updated packages.\n"
     ]
    }
   ],
   "source": [
    "pip install selenium"
   ]
  },
  {
   "cell_type": "code",
   "execution_count": 3,
   "id": "162ddff0",
   "metadata": {},
   "outputs": [
    {
     "name": "stdout",
     "output_type": "stream",
     "text": [
      "Requirement already satisfied: webdriver-manager in /Users/pujasaha/anaconda3/envs/torch/lib/python3.11/site-packages (4.0.1)\n",
      "Requirement already satisfied: requests in /Users/pujasaha/anaconda3/envs/torch/lib/python3.11/site-packages (from webdriver-manager) (2.28.2)\n",
      "Requirement already satisfied: python-dotenv in /Users/pujasaha/anaconda3/envs/torch/lib/python3.11/site-packages (from webdriver-manager) (1.0.0)\n",
      "Requirement already satisfied: packaging in /Users/pujasaha/anaconda3/envs/torch/lib/python3.11/site-packages (from webdriver-manager) (23.1)\n",
      "Requirement already satisfied: charset-normalizer<4,>=2 in /Users/pujasaha/anaconda3/envs/torch/lib/python3.11/site-packages (from requests->webdriver-manager) (2.0.4)\n",
      "Requirement already satisfied: idna<4,>=2.5 in /Users/pujasaha/anaconda3/envs/torch/lib/python3.11/site-packages (from requests->webdriver-manager) (3.4)\n",
      "Requirement already satisfied: urllib3<1.27,>=1.21.1 in /Users/pujasaha/anaconda3/envs/torch/lib/python3.11/site-packages (from requests->webdriver-manager) (1.26.18)\n",
      "Requirement already satisfied: certifi>=2017.4.17 in /Users/pujasaha/anaconda3/envs/torch/lib/python3.11/site-packages (from requests->webdriver-manager) (2024.2.2)\n",
      "Note: you may need to restart the kernel to use updated packages.\n"
     ]
    }
   ],
   "source": [
    "pip install webdriver-manager"
   ]
  },
  {
   "cell_type": "code",
   "execution_count": 4,
   "id": "47872802",
   "metadata": {},
   "outputs": [],
   "source": [
    "import time\n",
    "import pandas as pd\n",
    "from selenium import webdriver\n",
    "from bs4 import BeautifulSoup\n",
    "from selenium.webdriver.chrome.options import Options\n",
    "from selenium.webdriver.chrome.service import Service\n",
    "from webdriver_manager.chrome import ChromeDriverManager\n",
    "\n",
    "opts = Options()\n",
    "\n",
    "# Set up Selenium webdriver\n",
    "url = \"https://www.staples.ca/collections/windows-laptops-91\"\n",
    "driver = webdriver.Chrome(service=Service(ChromeDriverManager().install()), options=opts)\n",
    "driver.get(url)\n",
    "\n",
    "# Scroll to the bottom of the page to load all the laptops\n",
    "last_height = driver.execute_script(\"return document.body.scrollHeight\")\n",
    "while True:\n",
    "    driver.execute_script(\"window.scrollTo(0, document.body.scrollHeight);\")\n",
    "    time.sleep(2)  # Adjust the sleep time if necessary\n",
    "    new_height = driver.execute_script(\"return document.body.scrollHeight\")\n",
    "    if new_height == last_height:\n",
    "        break\n",
    "    last_height = new_height\n",
    "\n",
    "# Get the page source after loading all laptops\n",
    "page_source = driver.page_source\n",
    "\n",
    "\n",
    "# Parse the HTML using BeautifulSoup\n",
    "soup = BeautifulSoup(page_source, 'html.parser')\n",
    "\n",
    "#print(soup)\n",
    "\n",
    "\n",
    "laptop_items = soup.find_all('div',{'class':\"product-thumbnail\"})\n",
    "#print(laptop_items)\n",
    "\n",
    "# Extract laptop information\n",
    "item_names = []\n",
    "item_prices = []\n",
    "for laptop_div in laptop_items:\n",
    "    name = laptop_div.find('a', class_='product-thumbnail__title')\n",
    "    item_name = name.text.strip()\n",
    "    item_names.append(item_name)\n",
    "    \n",
    "    price = laptop_div.find('span', class_='money')\n",
    "    item_price = price.text.strip()\n",
    "    item_prices.append(item_price)\n",
    "\n",
    "# Create a Pandas DataFrame\n",
    "staples_prod = {'Laptop_name': item_names, 'Price': item_prices,} \n",
    "df = pd.DataFrame(staples_prod)\n",
    "\n",
    "# Close the webdriver\n",
    "driver.quit()"
   ]
  },
  {
   "cell_type": "code",
   "execution_count": 6,
   "id": "f9f9539b",
   "metadata": {},
   "outputs": [],
   "source": [
    "csv_filename = 'laptop_data_Staple.csv'\n",
    "df.to_csv(csv_filename, index=False)"
   ]
  }
 ],
 "metadata": {
  "kernelspec": {
   "display_name": "Python 3 (ipykernel)",
   "language": "python",
   "name": "python3"
  },
  "language_info": {
   "codemirror_mode": {
    "name": "ipython",
    "version": 3
   },
   "file_extension": ".py",
   "mimetype": "text/x-python",
   "name": "python",
   "nbconvert_exporter": "python",
   "pygments_lexer": "ipython3",
   "version": "3.11.5"
  },
  "toc": {
   "base_numbering": 1,
   "nav_menu": {},
   "number_sections": true,
   "sideBar": true,
   "skip_h1_title": false,
   "title_cell": "Table of Contents",
   "title_sidebar": "Contents",
   "toc_cell": false,
   "toc_position": {},
   "toc_section_display": true,
   "toc_window_display": false
  }
 },
 "nbformat": 4,
 "nbformat_minor": 5
}
